{
  "nbformat": 4,
  "nbformat_minor": 0,
  "metadata": {
    "colab": {
      "provenance": []
    },
    "kernelspec": {
      "name": "python3",
      "display_name": "Python 3"
    },
    "language_info": {
      "name": "python"
    }
  },
  "cells": [
    {
      "cell_type": "markdown",
      "source": [
        "Coursera Peer Graded Assignment"
      ],
      "metadata": {
        "id": "zGz_MfwTxMya"
      }
    },
    {
      "cell_type": "markdown",
      "source": [
        "My name is Ethan Coskay and I am a student learning about data science."
      ],
      "metadata": {
        "id": "xt6QUTEZxfCY"
      }
    },
    {
      "cell_type": "markdown",
      "source": [
        "Data Science Languages:\n",
        "1. Python\n",
        "2. R\n",
        "3. Java"
      ],
      "metadata": {
        "id": "JOVBXJmXxmkn"
      }
    },
    {
      "cell_type": "markdown",
      "source": [
        "Data Science Libraries:\n",
        "1. Pandas\n",
        "2. Scikit-Learn\n",
        "3. Matplotlib\n",
        "4. NumPy\n",
        "5. PyTorch"
      ],
      "metadata": {
        "id": "xoUTBAScxuea"
      }
    },
    {
      "cell_type": "markdown",
      "source": [
        "Data Science Tools\n",
        "*   Apache Spark\n",
        "*   Hadoop\n",
        "*   Jupyter Notebook\n",
        "\n"
      ],
      "metadata": {
        "id": "eKxT5GhPx-qN"
      }
    },
    {
      "cell_type": "markdown",
      "source": [
        "\n",
        "\n",
        "*   1 + 1 = 2\n",
        "*   2 + 3 = 5\n",
        "\n"
      ],
      "metadata": {
        "id": "jN50oB-Bx9qT"
      }
    },
    {
      "cell_type": "code",
      "source": [
        "x = 3 + 5\n",
        "y = 4 * 2\n",
        "z = (4 + 3) * 5"
      ],
      "metadata": {
        "id": "D4ti0My8y1gi"
      },
      "execution_count": null,
      "outputs": []
    },
    {
      "cell_type": "code",
      "source": [
        "mins = 180\n",
        "hours = mins/60"
      ],
      "metadata": {
        "id": "oaqdNRO40SPf"
      },
      "execution_count": null,
      "outputs": []
    },
    {
      "cell_type": "markdown",
      "source": [
        "Objectives\n",
        "\n",
        "\n",
        "*   Complete Assignment\n",
        "*   Graduate\n",
        "\n"
      ],
      "metadata": {
        "id": "ohit0Psm0v09"
      }
    },
    {
      "cell_type": "markdown",
      "source": [
        "Author: Ethan Coskay"
      ],
      "metadata": {
        "id": "IBlynR0z05_-"
      }
    }
  ]
}